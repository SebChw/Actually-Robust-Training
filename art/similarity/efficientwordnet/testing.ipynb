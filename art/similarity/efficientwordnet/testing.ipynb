{
 "cells": [
  {
   "cell_type": "code",
   "execution_count": 1,
   "metadata": {},
   "outputs": [],
   "source": [
    "#! Consider using efficient net v2 instead of classic v0."
   ]
  },
  {
   "cell_type": "code",
   "execution_count": 2,
   "metadata": {},
   "outputs": [],
   "source": [
    "#Model from HF is probably small overkill here and it would require more hacking than plain torch\n",
    "#config = transformers.AutoConfig.from_pretrained(\"google/efficientnet-b0\")"
   ]
  },
  {
   "cell_type": "code",
   "execution_count": 3,
   "metadata": {},
   "outputs": [
    {
     "name": "stderr",
     "output_type": "stream",
     "text": [
      "c:\\Users\\sebas\\mambaforge\\lib\\site-packages\\neptune\\common\\warnings.py:62: NeptuneDeprecationWarning: The 'neptune-client' package has been deprecated and will be removed in the future. Install the 'neptune' package instead. For more, see https://docs.neptune.ai/setup/upgrading/\n",
      "  warnings.warn(\n",
      "c:\\Users\\sebas\\mambaforge\\lib\\site-packages\\neptune\\common\\warnings.py:62: NeptuneDeprecationWarning: You're importing the Neptune client library via the deprecated `neptune.new` module, which will be removed in a future release. Import directly from `neptune` instead.\n",
      "  warnings.warn(\n"
     ]
    }
   ],
   "source": [
    "from torchvision import models\n",
    "import torch.nn as nn\n",
    "import torch\n",
    "\n",
    "from torchvision.ops.misc import Conv2dNormActivation\n",
    "\n",
    "from pytorch_lightning.utilities.model_summary import ModelSummary\n",
    "import lightning as L\n",
    "import torch.nn.functional as F"
   ]
  },
  {
   "cell_type": "code",
   "execution_count": 6,
   "metadata": {},
   "outputs": [],
   "source": [
    "import numpy as np\n",
    "\n",
    "b = np.ones((10,10))"
   ]
  },
  {
   "cell_type": "code",
   "execution_count": null,
   "metadata": {},
   "outputs": [],
   "source": []
  },
  {
   "cell_type": "code",
   "execution_count": 77,
   "metadata": {},
   "outputs": [],
   "source": [
    "#https://medium.com/vitrox-publication/understanding-circle-loss-bdaa576312f7\n",
    "class EfficientWordNet(nn.Module):\n",
    "    def __init__(self):\n",
    "        super().__init__()\n",
    "        \n",
    "        N_BLOCKS_FROM_EFFNET = 5\n",
    "        features_blocks = models.efficientnet_b0().features\n",
    "        self.efnet_part = nn.Sequential(*[features_blocks[i] for i in range(N_BLOCKS_FROM_EFFNET)])\n",
    "\n",
    "        # Our input is one channel spectrogram\n",
    "        norm_layer = None \n",
    "        firstconv_output_channels = 32\n",
    "        self.efnet_part[0] = Conv2dNormActivation(\n",
    "                1, firstconv_output_channels, kernel_size=3, stride=2, norm_layer=norm_layer, activation_layer=nn.SiLU\n",
    "            )\n",
    "        \n",
    "        #They claim that input is (1,98,64) spectrogram (98 filterbanks and 64 time steps)\n",
    "        # Output from 4th block of efficient net yields (80, 7, 4) Quite small image, but they use more convolutions \n",
    "        self.our_part = nn.Sequential(\n",
    "            nn.Conv2d(80, 32, 3, padding=\"same\"),\n",
    "            nn.BatchNorm2d(32),\n",
    "            nn.MaxPool2d(2), # They're not using ReLU in original implementation. This is actually okay with just max Pooling\n",
    "            nn.Conv2d(32,64,3,padding=\"same\"),\n",
    "            nn.Flatten(), # Output at this stage is 384\n",
    "            nn.Linear(384, 128),\n",
    "        )\n",
    "\n",
    "    def forward(self, X):\n",
    "        X = self.efnet_part(X)\n",
    "        X = self.our_part(X)\n",
    "        return F.normalize(X) # We force this embeddings to line in a unit hypersphere\n",
    "\n",
    "\n"
   ]
  },
  {
   "cell_type": "code",
   "execution_count": null,
   "metadata": {},
   "outputs": [],
   "source": []
  },
  {
   "cell_type": "code",
   "execution_count": 78,
   "metadata": {},
   "outputs": [],
   "source": [
    "model = EfficientWordNetModule()"
   ]
  },
  {
   "cell_type": "code",
   "execution_count": 76,
   "metadata": {},
   "outputs": [
    {
     "data": {
      "text/plain": [
       "    | Name                                    | Type                 | Params\n",
       "-----------------------------------------------------------------------------------\n",
       "0   | efnet_part                              | Sequential           | 308 K \n",
       "1   | efnet_part.0                            | Conv2dNormActivation | 320   \n",
       "2   | efnet_part.0.0                          | Conv2d               | 320   \n",
       "3   | efnet_part.0.1                          | SiLU                 | 0     \n",
       "4   | efnet_part.1                            | Sequential           | 1.4 K \n",
       "5   | efnet_part.1.0                          | MBConv               | 1.4 K \n",
       "6   | efnet_part.1.0.block                    | Sequential           | 1.4 K \n",
       "7   | efnet_part.1.0.block.0                  | Conv2dNormActivation | 352   \n",
       "8   | efnet_part.1.0.block.0.0                | Conv2d               | 288   \n",
       "9   | efnet_part.1.0.block.0.1                | BatchNorm2d          | 64    \n",
       "10  | efnet_part.1.0.block.0.2                | SiLU                 | 0     \n",
       "11  | efnet_part.1.0.block.1                  | SqueezeExcitation    | 552   \n",
       "12  | efnet_part.1.0.block.1.avgpool          | AdaptiveAvgPool2d    | 0     \n",
       "13  | efnet_part.1.0.block.1.fc1              | Conv2d               | 264   \n",
       "14  | efnet_part.1.0.block.1.fc2              | Conv2d               | 288   \n",
       "15  | efnet_part.1.0.block.1.activation       | SiLU                 | 0     \n",
       "16  | efnet_part.1.0.block.1.scale_activation | Sigmoid              | 0     \n",
       "17  | efnet_part.1.0.block.2                  | Conv2dNormActivation | 544   \n",
       "18  | efnet_part.1.0.block.2.0                | Conv2d               | 512   \n",
       "19  | efnet_part.1.0.block.2.1                | BatchNorm2d          | 32    \n",
       "20  | efnet_part.1.0.stochastic_depth         | StochasticDepth      | 0     \n",
       "21  | efnet_part.2                            | Sequential           | 16.7 K\n",
       "22  | efnet_part.2.0                          | MBConv               | 6.0 K \n",
       "23  | efnet_part.2.0.block                    | Sequential           | 6.0 K \n",
       "24  | efnet_part.2.0.block.0                  | Conv2dNormActivation | 1.7 K \n",
       "25  | efnet_part.2.0.block.0.0                | Conv2d               | 1.5 K \n",
       "26  | efnet_part.2.0.block.0.1                | BatchNorm2d          | 192   \n",
       "27  | efnet_part.2.0.block.0.2                | SiLU                 | 0     \n",
       "28  | efnet_part.2.0.block.1                  | Conv2dNormActivation | 1.1 K \n",
       "29  | efnet_part.2.0.block.1.0                | Conv2d               | 864   \n",
       "30  | efnet_part.2.0.block.1.1                | BatchNorm2d          | 192   \n",
       "31  | efnet_part.2.0.block.1.2                | SiLU                 | 0     \n",
       "32  | efnet_part.2.0.block.2                  | SqueezeExcitation    | 868   \n",
       "33  | efnet_part.2.0.block.2.avgpool          | AdaptiveAvgPool2d    | 0     \n",
       "34  | efnet_part.2.0.block.2.fc1              | Conv2d               | 388   \n",
       "35  | efnet_part.2.0.block.2.fc2              | Conv2d               | 480   \n",
       "36  | efnet_part.2.0.block.2.activation       | SiLU                 | 0     \n",
       "37  | efnet_part.2.0.block.2.scale_activation | Sigmoid              | 0     \n",
       "38  | efnet_part.2.0.block.3                  | Conv2dNormActivation | 2.4 K \n",
       "39  | efnet_part.2.0.block.3.0                | Conv2d               | 2.3 K \n",
       "40  | efnet_part.2.0.block.3.1                | BatchNorm2d          | 48    \n",
       "41  | efnet_part.2.0.stochastic_depth         | StochasticDepth      | 0     \n",
       "42  | efnet_part.2.1                          | MBConv               | 10.7 K\n",
       "43  | efnet_part.2.1.block                    | Sequential           | 10.7 K\n",
       "44  | efnet_part.2.1.block.0                  | Conv2dNormActivation | 3.7 K \n",
       "45  | efnet_part.2.1.block.0.0                | Conv2d               | 3.5 K \n",
       "46  | efnet_part.2.1.block.0.1                | BatchNorm2d          | 288   \n",
       "47  | efnet_part.2.1.block.0.2                | SiLU                 | 0     \n",
       "48  | efnet_part.2.1.block.1                  | Conv2dNormActivation | 1.6 K \n",
       "49  | efnet_part.2.1.block.1.0                | Conv2d               | 1.3 K \n",
       "50  | efnet_part.2.1.block.1.1                | BatchNorm2d          | 288   \n",
       "51  | efnet_part.2.1.block.1.2                | SiLU                 | 0     \n",
       "52  | efnet_part.2.1.block.2                  | SqueezeExcitation    | 1.9 K \n",
       "53  | efnet_part.2.1.block.2.avgpool          | AdaptiveAvgPool2d    | 0     \n",
       "54  | efnet_part.2.1.block.2.fc1              | Conv2d               | 870   \n",
       "55  | efnet_part.2.1.block.2.fc2              | Conv2d               | 1.0 K \n",
       "56  | efnet_part.2.1.block.2.activation       | SiLU                 | 0     \n",
       "57  | efnet_part.2.1.block.2.scale_activation | Sigmoid              | 0     \n",
       "58  | efnet_part.2.1.block.3                  | Conv2dNormActivation | 3.5 K \n",
       "59  | efnet_part.2.1.block.3.0                | Conv2d               | 3.5 K \n",
       "60  | efnet_part.2.1.block.3.1                | BatchNorm2d          | 48    \n",
       "61  | efnet_part.2.1.stochastic_depth         | StochasticDepth      | 0     \n",
       "62  | efnet_part.3                            | Sequential           | 46.6 K\n",
       "63  | efnet_part.3.0                          | MBConv               | 15.3 K\n",
       "64  | efnet_part.3.0.block                    | Sequential           | 15.3 K\n",
       "65  | efnet_part.3.0.block.0                  | Conv2dNormActivation | 3.7 K \n",
       "66  | efnet_part.3.0.block.0.0                | Conv2d               | 3.5 K \n",
       "67  | efnet_part.3.0.block.0.1                | BatchNorm2d          | 288   \n",
       "68  | efnet_part.3.0.block.0.2                | SiLU                 | 0     \n",
       "69  | efnet_part.3.0.block.1                  | Conv2dNormActivation | 3.9 K \n",
       "70  | efnet_part.3.0.block.1.0                | Conv2d               | 3.6 K \n",
       "71  | efnet_part.3.0.block.1.1                | BatchNorm2d          | 288   \n",
       "72  | efnet_part.3.0.block.1.2                | SiLU                 | 0     \n",
       "73  | efnet_part.3.0.block.2                  | SqueezeExcitation    | 1.9 K \n",
       "74  | efnet_part.3.0.block.2.avgpool          | AdaptiveAvgPool2d    | 0     \n",
       "75  | efnet_part.3.0.block.2.fc1              | Conv2d               | 870   \n",
       "76  | efnet_part.3.0.block.2.fc2              | Conv2d               | 1.0 K \n",
       "77  | efnet_part.3.0.block.2.activation       | SiLU                 | 0     \n",
       "78  | efnet_part.3.0.block.2.scale_activation | Sigmoid              | 0     \n",
       "79  | efnet_part.3.0.block.3                  | Conv2dNormActivation | 5.8 K \n",
       "80  | efnet_part.3.0.block.3.0                | Conv2d               | 5.8 K \n",
       "81  | efnet_part.3.0.block.3.1                | BatchNorm2d          | 80    \n",
       "82  | efnet_part.3.0.stochastic_depth         | StochasticDepth      | 0     \n",
       "83  | efnet_part.3.1                          | MBConv               | 31.3 K\n",
       "84  | efnet_part.3.1.block                    | Sequential           | 31.3 K\n",
       "85  | efnet_part.3.1.block.0                  | Conv2dNormActivation | 10.1 K\n",
       "86  | efnet_part.3.1.block.0.0                | Conv2d               | 9.6 K \n",
       "87  | efnet_part.3.1.block.0.1                | BatchNorm2d          | 480   \n",
       "88  | efnet_part.3.1.block.0.2                | SiLU                 | 0     \n",
       "89  | efnet_part.3.1.block.1                  | Conv2dNormActivation | 6.5 K \n",
       "90  | efnet_part.3.1.block.1.0                | Conv2d               | 6.0 K \n",
       "91  | efnet_part.3.1.block.1.1                | BatchNorm2d          | 480   \n",
       "92  | efnet_part.3.1.block.1.2                | SiLU                 | 0     \n",
       "93  | efnet_part.3.1.block.2                  | SqueezeExcitation    | 5.0 K \n",
       "94  | efnet_part.3.1.block.2.avgpool          | AdaptiveAvgPool2d    | 0     \n",
       "95  | efnet_part.3.1.block.2.fc1              | Conv2d               | 2.4 K \n",
       "96  | efnet_part.3.1.block.2.fc2              | Conv2d               | 2.6 K \n",
       "97  | efnet_part.3.1.block.2.activation       | SiLU                 | 0     \n",
       "98  | efnet_part.3.1.block.2.scale_activation | Sigmoid              | 0     \n",
       "99  | efnet_part.3.1.block.3                  | Conv2dNormActivation | 9.7 K \n",
       "100 | efnet_part.3.1.block.3.0                | Conv2d               | 9.6 K \n",
       "101 | efnet_part.3.1.block.3.1                | BatchNorm2d          | 80    \n",
       "102 | efnet_part.3.1.stochastic_depth         | StochasticDepth      | 0     \n",
       "103 | efnet_part.4                            | Sequential           | 242 K \n",
       "104 | efnet_part.4.0                          | MBConv               | 37.1 K\n",
       "105 | efnet_part.4.0.block                    | Sequential           | 37.1 K\n",
       "106 | efnet_part.4.0.block.0                  | Conv2dNormActivation | 10.1 K\n",
       "107 | efnet_part.4.0.block.0.0                | Conv2d               | 9.6 K \n",
       "108 | efnet_part.4.0.block.0.1                | BatchNorm2d          | 480   \n",
       "109 | efnet_part.4.0.block.0.2                | SiLU                 | 0     \n",
       "110 | efnet_part.4.0.block.1                  | Conv2dNormActivation | 2.6 K \n",
       "111 | efnet_part.4.0.block.1.0                | Conv2d               | 2.2 K \n",
       "112 | efnet_part.4.0.block.1.1                | BatchNorm2d          | 480   \n",
       "113 | efnet_part.4.0.block.1.2                | SiLU                 | 0     \n",
       "114 | efnet_part.4.0.block.2                  | SqueezeExcitation    | 5.0 K \n",
       "115 | efnet_part.4.0.block.2.avgpool          | AdaptiveAvgPool2d    | 0     \n",
       "116 | efnet_part.4.0.block.2.fc1              | Conv2d               | 2.4 K \n",
       "117 | efnet_part.4.0.block.2.fc2              | Conv2d               | 2.6 K \n",
       "118 | efnet_part.4.0.block.2.activation       | SiLU                 | 0     \n",
       "119 | efnet_part.4.0.block.2.scale_activation | Sigmoid              | 0     \n",
       "120 | efnet_part.4.0.block.3                  | Conv2dNormActivation | 19.4 K\n",
       "121 | efnet_part.4.0.block.3.0                | Conv2d               | 19.2 K\n",
       "122 | efnet_part.4.0.block.3.1                | BatchNorm2d          | 160   \n",
       "123 | efnet_part.4.0.stochastic_depth         | StochasticDepth      | 0     \n",
       "124 | efnet_part.4.1                          | MBConv               | 102 K \n",
       "125 | efnet_part.4.1.block                    | Sequential           | 102 K \n",
       "126 | efnet_part.4.1.block.0                  | Conv2dNormActivation | 39.4 K\n",
       "127 | efnet_part.4.1.block.0.0                | Conv2d               | 38.4 K\n",
       "128 | efnet_part.4.1.block.0.1                | BatchNorm2d          | 960   \n",
       "129 | efnet_part.4.1.block.0.2                | SiLU                 | 0     \n",
       "130 | efnet_part.4.1.block.1                  | Conv2dNormActivation | 5.3 K \n",
       "131 | efnet_part.4.1.block.1.0                | Conv2d               | 4.3 K \n",
       "132 | efnet_part.4.1.block.1.1                | BatchNorm2d          | 960   \n",
       "133 | efnet_part.4.1.block.1.2                | SiLU                 | 0     \n",
       "134 | efnet_part.4.1.block.2                  | SqueezeExcitation    | 19.7 K\n",
       "135 | efnet_part.4.1.block.2.avgpool          | AdaptiveAvgPool2d    | 0     \n",
       "136 | efnet_part.4.1.block.2.fc1              | Conv2d               | 9.6 K \n",
       "137 | efnet_part.4.1.block.2.fc2              | Conv2d               | 10.1 K\n",
       "138 | efnet_part.4.1.block.2.activation       | SiLU                 | 0     \n",
       "139 | efnet_part.4.1.block.2.scale_activation | Sigmoid              | 0     \n",
       "140 | efnet_part.4.1.block.3                  | Conv2dNormActivation | 38.6 K\n",
       "141 | efnet_part.4.1.block.3.0                | Conv2d               | 38.4 K\n",
       "142 | efnet_part.4.1.block.3.1                | BatchNorm2d          | 160   \n",
       "143 | efnet_part.4.1.stochastic_depth         | StochasticDepth      | 0     \n",
       "144 | efnet_part.4.2                          | MBConv               | 102 K \n",
       "145 | efnet_part.4.2.block                    | Sequential           | 102 K \n",
       "146 | efnet_part.4.2.block.0                  | Conv2dNormActivation | 39.4 K\n",
       "147 | efnet_part.4.2.block.0.0                | Conv2d               | 38.4 K\n",
       "148 | efnet_part.4.2.block.0.1                | BatchNorm2d          | 960   \n",
       "149 | efnet_part.4.2.block.0.2                | SiLU                 | 0     \n",
       "150 | efnet_part.4.2.block.1                  | Conv2dNormActivation | 5.3 K \n",
       "151 | efnet_part.4.2.block.1.0                | Conv2d               | 4.3 K \n",
       "152 | efnet_part.4.2.block.1.1                | BatchNorm2d          | 960   \n",
       "153 | efnet_part.4.2.block.1.2                | SiLU                 | 0     \n",
       "154 | efnet_part.4.2.block.2                  | SqueezeExcitation    | 19.7 K\n",
       "155 | efnet_part.4.2.block.2.avgpool          | AdaptiveAvgPool2d    | 0     \n",
       "156 | efnet_part.4.2.block.2.fc1              | Conv2d               | 9.6 K \n",
       "157 | efnet_part.4.2.block.2.fc2              | Conv2d               | 10.1 K\n",
       "158 | efnet_part.4.2.block.2.activation       | SiLU                 | 0     \n",
       "159 | efnet_part.4.2.block.2.scale_activation | Sigmoid              | 0     \n",
       "160 | efnet_part.4.2.block.3                  | Conv2dNormActivation | 38.6 K\n",
       "161 | efnet_part.4.2.block.3.0                | Conv2d               | 38.4 K\n",
       "162 | efnet_part.4.2.block.3.1                | BatchNorm2d          | 160   \n",
       "163 | efnet_part.4.2.stochastic_depth         | StochasticDepth      | 0     \n",
       "164 | our_part                                | Sequential           | 90.9 K\n",
       "165 | our_part.0                              | Conv2d               | 23.1 K\n",
       "166 | our_part.1                              | BatchNorm2d          | 64    \n",
       "167 | our_part.2                              | MaxPool2d            | 0     \n",
       "168 | our_part.3                              | Conv2d               | 18.5 K\n",
       "169 | our_part.4                              | Flatten              | 0     \n",
       "170 | our_part.5                              | Linear               | 49.3 K\n",
       "-----------------------------------------------------------------------------------\n",
       "398 K     Trainable params\n",
       "0         Non-trainable params\n",
       "398 K     Total params\n",
       "1.596     Total estimated model params size (MB)"
      ]
     },
     "execution_count": 76,
     "metadata": {},
     "output_type": "execute_result"
    }
   ],
   "source": [
    "ModelSummary(EfficientWordNetModule(), max_depth=-1)"
   ]
  },
  {
   "cell_type": "code",
   "execution_count": 1,
   "metadata": {},
   "outputs": [],
   "source": [
    "from art.enums import TrainingStage"
   ]
  },
  {
   "cell_type": "code",
   "execution_count": 2,
   "metadata": {},
   "outputs": [],
   "source": [
    "a = TrainingStage.TEST"
   ]
  },
  {
   "cell_type": "code",
   "execution_count": 3,
   "metadata": {},
   "outputs": [
    {
     "data": {
      "text/plain": [
       "True"
      ]
     },
     "execution_count": 3,
     "metadata": {},
     "output_type": "execute_result"
    }
   ],
   "source": [
    "a  == TrainingStage.TEST"
   ]
  },
  {
   "cell_type": "code",
   "execution_count": null,
   "metadata": {},
   "outputs": [],
   "source": []
  }
 ],
 "metadata": {
  "kernelspec": {
   "display_name": "base",
   "language": "python",
   "name": "python3"
  },
  "language_info": {
   "codemirror_mode": {
    "name": "ipython",
    "version": 3
   },
   "file_extension": ".py",
   "mimetype": "text/x-python",
   "name": "python",
   "nbconvert_exporter": "python",
   "pygments_lexer": "ipython3",
   "version": "3.10.6"
  },
  "orig_nbformat": 4
 },
 "nbformat": 4,
 "nbformat_minor": 2
}
