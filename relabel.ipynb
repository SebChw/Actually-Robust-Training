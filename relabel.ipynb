{
 "cells": [
  {
   "cell_type": "code",
   "execution_count": 1,
   "metadata": {},
   "outputs": [],
   "source": [
    "import datasets\n",
    "from art.sourcesep_utils import measure_l1_for_source_separation, infer_and_save_results\n",
    "from art.data.collate import create_sourceseparation_collate\n",
    "\n",
    "%load_ext autoreload\n",
    "%autoreload 2"
   ]
  },
  {
   "cell_type": "code",
   "execution_count": 2,
   "metadata": {},
   "outputs": [
    {
     "name": "stderr",
     "output_type": "stream",
     "text": [
      "Found cached dataset sound_demixing_challenge (D:/hf_datasets/sebchw___sound_demixing_challenge/labelnoise-2279d988d676e56b/0.0.0/2eabcc8bf65bc3a2a2c2ba3f23993ebd542fc06824638c36acd791c073c64763)\n"
     ]
    },
    {
     "data": {
      "application/vnd.jupyter.widget-view+json": {
       "model_id": "4fd083bb163343c290958e8098a69ea0",
       "version_major": 2,
       "version_minor": 0
      },
      "text/plain": [
       "  0%|          | 0/1 [00:00<?, ?it/s]"
      ]
     },
     "metadata": {},
     "output_type": "display_data"
    }
   ],
   "source": [
    "label_noise = datasets.load_dataset(**{\n",
    "    \"path\": \"sebchw/sound_demixing_challenge\",\n",
    "    \"name\": \"labelnoise\",\n",
    "    \"zip_path\": \"sdxdb23_labelnoise_v1.0_rc1.zip\",\n",
    "  })"
   ]
  },
  {
   "cell_type": "code",
   "execution_count": 4,
   "metadata": {},
   "outputs": [
    {
     "name": "stderr",
     "output_type": "stream",
     "text": [
      "Found cached dataset musdb18 (D:/hf_datasets/sebchw___musdb18/default/0.0.0/8e4f1e5b442f5b425fd98cffe0aa7001119aeaccf7d4bf07c49a70dc61cf6228)\n"
     ]
    }
   ],
   "source": [
    "label_noise[\"test\"] = datasets.load_dataset(\"sebchw/musdb18\", split=\"test\")"
   ]
  },
  {
   "cell_type": "code",
   "execution_count": 5,
   "metadata": {},
   "outputs": [
    {
     "data": {
      "text/plain": [
       "DatasetDict({\n",
       "    train: Dataset({\n",
       "        features: ['name', 'n_window', 'bass', 'drums', 'vocals', 'other', 'mean', 'std'],\n",
       "        num_rows: 4453\n",
       "    })\n",
       "    test: Dataset({\n",
       "        features: ['name', 'n_window', 'mixture', 'drums', 'bass', 'other', 'vocals', 'mean', 'std'],\n",
       "        num_rows: 1273\n",
       "    })\n",
       "})"
      ]
     },
     "execution_count": 5,
     "metadata": {},
     "output_type": "execute_result"
    }
   ],
   "source": [
    "label_noise"
   ]
  },
  {
   "cell_type": "code",
   "execution_count": 6,
   "metadata": {},
   "outputs": [
    {
     "data": {
      "application/vnd.jupyter.widget-view+json": {
       "model_id": "7b6d1f4996cb49bfbe28f688dc251987",
       "version_major": 2,
       "version_minor": 0
      },
      "text/plain": [
       "Saving the dataset (0/63 shards):   0%|          | 0/4453 [00:00<?, ? examples/s]"
      ]
     },
     "metadata": {},
     "output_type": "display_data"
    },
    {
     "data": {
      "application/vnd.jupyter.widget-view+json": {
       "model_id": "fe471aa451404ff6988315d152d5f48b",
       "version_major": 2,
       "version_minor": 0
      },
      "text/plain": [
       "Saving the dataset (0/23 shards):   0%|          | 0/1273 [00:00<?, ? examples/s]"
      ]
     },
     "metadata": {},
     "output_type": "display_data"
    }
   ],
   "source": [
    "label_noise.save_to_disk(\"labelnoise\", num_proc=-4)"
   ]
  },
  {
   "cell_type": "code",
   "execution_count": 7,
   "metadata": {},
   "outputs": [],
   "source": [
    "ds2 = datasets.DatasetDict.load_from_disk(\"labelnoise\")"
   ]
  },
  {
   "cell_type": "code",
   "execution_count": 8,
   "metadata": {},
   "outputs": [
    {
     "data": {
      "text/plain": [
       "DatasetDict({\n",
       "    train: Dataset({\n",
       "        features: ['name', 'n_window', 'bass', 'drums', 'vocals', 'other', 'mean', 'std'],\n",
       "        num_rows: 4453\n",
       "    })\n",
       "    test: Dataset({\n",
       "        features: ['name', 'n_window', 'mixture', 'drums', 'bass', 'other', 'vocals', 'mean', 'std'],\n",
       "        num_rows: 1273\n",
       "    })\n",
       "})"
      ]
     },
     "execution_count": 8,
     "metadata": {},
     "output_type": "execute_result"
    }
   ],
   "source": [
    "ds2"
   ]
  },
  {
   "cell_type": "code",
   "execution_count": 2,
   "metadata": {},
   "outputs": [
    {
     "name": "stderr",
     "output_type": "stream",
     "text": [
      "Found cached dataset sound_demixing_challenge (D:/hf_datasets/sebchw___sound_demixing_challenge/labelnoise-2279d988d676e56b/0.0.0/2eabcc8bf65bc3a2a2c2ba3f23993ebd542fc06824638c36acd791c073c64763)\n"
     ]
    },
    {
     "data": {
      "application/vnd.jupyter.widget-view+json": {
       "model_id": "cba3ce2d696b49c782297d35a8a00b4b",
       "version_major": 2,
       "version_minor": 0
      },
      "text/plain": [
       "  0%|          | 0/1 [00:00<?, ?it/s]"
      ]
     },
     "metadata": {},
     "output_type": "display_data"
    }
   ],
   "source": [
    "dataset = datasets.load_dataset( \"sebchw/sound_demixing_challenge\", \"labelnoise\", zip_path= \"sdxdb23_labelnoise_v1.0_rc1.zip\",)"
   ]
  },
  {
   "cell_type": "code",
   "execution_count": 6,
   "metadata": {},
   "outputs": [],
   "source": [
    "dataset['test'] = musdb"
   ]
  },
  {
   "cell_type": "code",
   "execution_count": 7,
   "metadata": {},
   "outputs": [
    {
     "data": {
      "text/plain": [
       "DatasetDict({\n",
       "    train: Dataset({\n",
       "        features: ['name', 'n_window', 'bass', 'drums', 'vocals', 'other', 'mean', 'std'],\n",
       "        num_rows: 4453\n",
       "    })\n",
       "    test: Dataset({\n",
       "        features: ['name', 'n_window', 'mixture', 'drums', 'bass', 'other', 'vocals', 'mean', 'std'],\n",
       "        num_rows: 1273\n",
       "    })\n",
       "})"
      ]
     },
     "execution_count": 7,
     "metadata": {},
     "output_type": "execute_result"
    }
   ],
   "source": [
    "dataset"
   ]
  },
  {
   "cell_type": "code",
   "execution_count": 3,
   "metadata": {},
   "outputs": [],
   "source": [
    "dataset = dataset['train'].with_format(\"torch\", device=\"cuda\")"
   ]
  },
  {
   "cell_type": "code",
   "execution_count": 4,
   "metadata": {},
   "outputs": [
    {
     "name": "stderr",
     "output_type": "stream",
     "text": [
      "c:\\Users\\sebas\\mambaforge\\envs\\data-science\\lib\\site-packages\\neptune\\common\\warnings.py:62: NeptuneDeprecationWarning: The 'neptune-client' package has been deprecated and will be removed in the future. Install the 'neptune' package instead. For more, see https://docs.neptune.ai/setup/upgrading/\n",
      "  warnings.warn(\n",
      "c:\\Users\\sebas\\mambaforge\\envs\\data-science\\lib\\site-packages\\neptune\\common\\warnings.py:62: NeptuneDeprecationWarning: You're importing the Neptune client library via the deprecated `neptune.new` module, which will be removed in a future release. Import directly from `neptune` instead.\n",
      "  warnings.warn(\n",
      "c:\\Users\\sebas\\mambaforge\\envs\\data-science\\lib\\site-packages\\lightning\\pytorch\\utilities\\migration\\utils.py:49: PossibleUserWarning: The loaded checkpoint was produced with Lightning v2.0.1, which is newer than your current Lightning version: v2.0.0\n",
      "  rank_zero_warn(\n"
     ]
    }
   ],
   "source": [
    "from art.litmodules import LitAudioSourceSeparator\n",
    "\n",
    "params  = {\"_target_\" : \"torchaudio.models.HDemucs\",\n",
    "  \"sources\": [\"bass\", \"vocals\", \"drums\", \"other\"]}\n",
    "model = LitAudioSourceSeparator.load_from_checkpoint(\"sourceseparation-epoch=0-val_loss=0.24.ckpt\", model=params)"
   ]
  },
  {
   "cell_type": "code",
   "execution_count": 5,
   "metadata": {},
   "outputs": [],
   "source": [
    "model = model.to(\"cuda\")"
   ]
  },
  {
   "cell_type": "code",
   "execution_count": 6,
   "metadata": {},
   "outputs": [],
   "source": [
    "LENGTH = 441000\n",
    "INSTRUMENTS = model.model.sources\n",
    "COLLATE_FUNCTION = create_sourceseparation_collate(LENGTH, INSTRUMENTS)"
   ]
  },
  {
   "cell_type": "code",
   "execution_count": 7,
   "metadata": {},
   "outputs": [
    {
     "data": {
      "application/vnd.jupyter.widget-view+json": {
       "model_id": "d572d07ff3ac45f09476b3ae8fda566e",
       "version_major": 2,
       "version_minor": 0
      },
      "text/plain": [
       "Map:   0%|          | 0/4452 [00:00<?, ? examples/s]"
      ]
     },
     "metadata": {},
     "output_type": "display_data"
    }
   ],
   "source": [
    "dataset_l1 = measure_l1_for_source_separation(dataset, model, create_sourceseparation_collate(instruments=model.sources))"
   ]
  },
  {
   "cell_type": "code",
   "execution_count": 8,
   "metadata": {},
   "outputs": [
    {
     "data": {
      "image/png": "[encoded data removed]",
      "text/plain": [
       "<Figure size 640x480 with 1 Axes>"
      ]
     },
     "metadata": {},
     "output_type": "display_data"
    },
    {
     "data": {
      "image/png": "[encoded data removed]",
      "text/plain": [
       "<Figure size 640x480 with 1 Axes>"
      ]
     },
     "metadata": {},
     "output_type": "display_data"
    },
    {
     "data": {
      "image/png": "[encoded data removed]",
      "text/plain": [
       "<Figure size 640x480 with 1 Axes>"
      ]
     },
     "metadata": {},
     "output_type": "display_data"
    },
    {
     "data": {
      "image/png": "[encoded data removed]",
      "text/plain": [
       "<Figure size 640x480 with 1 Axes>"
      ]
     },
     "metadata": {},
     "output_type": "display_data"
    }
   ],
   "source": [
    "import matplotlib.pyplot as plt\n",
    "\n",
    "for instrument in model.sources:\n",
    "    plt.hist(dataset_l1[f\"{instrument}L1\"].cpu())\n",
    "    plt.title(f\"Distribution of L1 losses for {instrument}\")\n",
    "    plt.show()"
   ]
  },
  {
   "cell_type": "code",
   "execution_count": 19,
   "metadata": {},
   "outputs": [
    {
     "name": "stderr",
     "output_type": "stream",
     "text": [
      "Loading cached processed dataset at D:\\hf_datasets\\sebchw___sound_demixing_challenge\\labelnoise-2279d988d676e56b\\0.0.0\\2eabcc8bf65bc3a2a2c2ba3f23993ebd542fc06824638c36acd791c073c64763\\cache-71b10d77c27a5486.arrow\n"
     ]
    }
   ],
   "source": [
    "dataset_outliers = dataset_l1.filter(lambda example: example['vocalsL1'] > 0.6)"
   ]
  },
  {
   "cell_type": "code",
   "execution_count": 20,
   "metadata": {},
   "outputs": [
    {
     "data": {
      "text/plain": [
       "(array(['labelnoise/05b0ab77-2495-438d-8831-e3d81f96c16d',\n",
       "        'labelnoise/0a589d65-50a3-4999-8f16-b5b6199bceee',\n",
       "        'labelnoise/13f233aa-a2e5-4683-8533-2f1e344b55b4',\n",
       "        'labelnoise/1f98fe4d-26c7-460f-9f68-33964bc4d8d3',\n",
       "        'labelnoise/1fc37390-1769-452d-9bea-19025be4c467',\n",
       "        'labelnoise/312bec8d-1c61-43e0-924a-1fb87ddc3e41',\n",
       "        'labelnoise/322f4d9d-b0c9-4ab3-9e30-544a25331ffd',\n",
       "        'labelnoise/36ee7fc6-604c-4a75-b4f0-0a9ceef3b9cb',\n",
       "        'labelnoise/3e656eec-84d4-4a45-b410-d3817d849f92',\n",
       "        'labelnoise/4cbd6c36-87a2-4d50-86e3-52d39b98fad3',\n",
       "        'labelnoise/5f04798d-c7be-4b8a-90bd-1fcd9946e875',\n",
       "        'labelnoise/7bfa233c-24ed-4c7a-9096-11e3aa00c55d',\n",
       "        'labelnoise/a0eae9d2-d97f-401a-a495-1e1d1cb84a9c',\n",
       "        'labelnoise/cc7f7675-d3c8-4a49-a2d7-a8959b694004',\n",
       "        'labelnoise/d2401d3d-967c-46be-b9a0-3da571105158',\n",
       "        'labelnoise/d4df499c-e394-4753-b459-e167e6a58bad',\n",
       "        'labelnoise/d890ff35-300d-49f2-8054-49ab47262987',\n",
       "        'labelnoise/dfb0e076-cb6b-4dcc-9934-c60070ff04d7',\n",
       "        'labelnoise/e62afdcd-0c96-4bee-80c7-1c17b897a6d7'], dtype='<U47'),\n",
       " array([ 4,  2,  7,  3,  1,  2,  4,  1,  2, 10,  1,  2,  2,  2,  3,  2,  4,\n",
       "         2,  1], dtype=int64))"
      ]
     },
     "execution_count": 20,
     "metadata": {},
     "output_type": "execute_result"
    }
   ],
   "source": [
    "import numpy as np\n",
    "np.unique(dataset_outliers['name'], return_counts=True)"
   ]
  },
  {
   "cell_type": "code",
   "execution_count": 25,
   "metadata": {},
   "outputs": [
    {
     "data": {
      "text/plain": [
       "{'name': ['labelnoise/312bec8d-1c61-43e0-924a-1fb87ddc3e41',\n",
       "  'labelnoise/312bec8d-1c61-43e0-924a-1fb87ddc3e41',\n",
       "  'labelnoise/7bfa233c-24ed-4c7a-9096-11e3aa00c55d',\n",
       "  'labelnoise/7bfa233c-24ed-4c7a-9096-11e3aa00c55d',\n",
       "  'labelnoise/5f04798d-c7be-4b8a-90bd-1fcd9946e875',\n",
       "  'labelnoise/d890ff35-300d-49f2-8054-49ab47262987',\n",
       "  'labelnoise/d890ff35-300d-49f2-8054-49ab47262987',\n",
       "  'labelnoise/d890ff35-300d-49f2-8054-49ab47262987',\n",
       "  'labelnoise/d890ff35-300d-49f2-8054-49ab47262987',\n",
       "  'labelnoise/3e656eec-84d4-4a45-b410-d3817d849f92'],\n",
       " 'n_window': tensor([15, 18, 13, 26, 17, 21, 22, 23, 24, 19], device='cuda:0'),\n",
       " 'mean': tensor([ 2.7085e-04,  2.7085e-04, -1.3096e-04, -1.3096e-04, -2.2714e-04,\n",
       "         -6.1662e-05, -6.1662e-05, -6.1662e-05, -6.1662e-05, -1.8111e-04],\n",
       "        device='cuda:0'),\n",
       " 'std': tensor([0.0625, 0.0625, 0.0691, 0.0691, 0.1092, 0.0429, 0.0429, 0.0429, 0.0429,\n",
       "         0.0657], device='cuda:0'),\n",
       " 'bassL1': tensor([0.3384, 0.4107, 0.3726, 0.2683, 0.0948, 0.3208, 0.4078, 0.4331, 0.4316,\n",
       "         0.3492], device='cuda:0'),\n",
       " 'vocalsL1': tensor([0.6737, 0.6295, 0.7172, 0.6104, 0.6061, 0.9499, 0.9727, 1.0078, 1.0077,\n",
       "         0.6235], device='cuda:0'),\n",
       " 'drumsL1': tensor([0.1689, 0.2736, 0.3146, 0.1877, 0.2645, 0.8087, 0.8187, 0.8224, 0.8149,\n",
       "         0.1888], device='cuda:0'),\n",
       " 'otherL1': tensor([0.5200, 0.4782, 0.5497, 0.4733, 0.5724, 0.9144, 1.0034, 1.0247, 0.9905,\n",
       "         0.5428], device='cuda:0')}"
      ]
     },
     "execution_count": 25,
     "metadata": {},
     "output_type": "execute_result"
    }
   ],
   "source": [
    "dataset_outliers[0:10]"
   ]
  },
  {
   "cell_type": "code",
   "execution_count": 45,
   "metadata": {},
   "outputs": [],
   "source": [
    "infer_and_save_results(dataset.select([98]), model)"
   ]
  },
  {
   "cell_type": "code",
   "execution_count": null,
   "metadata": {},
   "outputs": [],
   "source": [
    "from torchaudio.models import HDemucs"
   ]
  },
  {
   "cell_type": "code",
   "execution_count": 41,
   "metadata": {},
   "outputs": [],
   "source": [
    "from torchaudio.pipelines import HDEMUCS_HIGH_MUSDB_PLUS"
   ]
  },
  {
   "cell_type": "code",
   "execution_count": 44,
   "metadata": {},
   "outputs": [],
   "source": [
    "bundle = HDEMUCS_HIGH_MUSDB_PLUS\n",
    "model2 = bundle.get_model()\n",
    "model2.to(\"cuda\")\n",
    "\n",
    "infer_and_save_results(dataset.select([98]), model2)"
   ]
  }
 ],
 "metadata": {
  "kernelspec": {
   "display_name": "data-science",
   "language": "python",
   "name": "python3"
  },
  "language_info": {
   "codemirror_mode": {
    "name": "ipython",
    "version": 3
   },
   "file_extension": ".py",
   "mimetype": "text/x-python",
   "name": "python",
   "nbconvert_exporter": "python",
   "pygments_lexer": "ipython3",
   "version": "3.10.8"
  },
  "orig_nbformat": 4
 },
 "nbformat": 4,
 "nbformat_minor": 2
}
